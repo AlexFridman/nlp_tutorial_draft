{
 "cells": [
  {
   "cell_type": "markdown",
   "metadata": {},
   "source": [
    "<small><i>This notebook was put together by [Alexander Fridman](http://www.rocketscience.ai) and [Volha Hedranovich](http://www.rocketscience.ai) for the Lecture Course. Source and license info is on [GitHub](https://github.com/volhahedranovich/jupyter_lectures).</i></small>"
   ]
  },
  {
   "cell_type": "code",
   "execution_count": 113,
   "metadata": {},
   "outputs": [
    {
     "name": "stdout",
     "output_type": "stream",
     "text": [
      "[nltk_data] Downloading package punkt to /home/volha/nltk_data...\n",
      "[nltk_data]   Package punkt is already up-to-date!\n",
      "[nltk_data] Downloading package wordnet to /home/volha/nltk_data...\n",
      "[nltk_data]   Package wordnet is already up-to-date!\n",
      "[nltk_data] Downloading package stopwords to /home/volha/nltk_data...\n",
      "[nltk_data]   Package stopwords is already up-to-date!\n"
     ]
    },
    {
     "data": {
      "text/plain": [
       "True"
      ]
     },
     "execution_count": 113,
     "metadata": {},
     "output_type": "execute_result"
    }
   ],
   "source": [
    "nltk.download('punkt')\n",
    "nltk.download('wordnet')\n",
    "nltk.download('stopwords')"
   ]
  },
  {
   "cell_type": "markdown",
   "metadata": {},
   "source": [
    "## Basic cleaning\n",
    "\n",
    "For simplicity let's lowercase text and replace all non word characters with space symbol.\n",
    "\n",
    "TODO: link or short regexp example"
   ]
  },
  {
   "cell_type": "code",
   "execution_count": 25,
   "metadata": {},
   "outputs": [],
   "source": [
    "def clean_text(text):\n",
    "    \"\"\"\n",
    "    Perfomes a basic text cleaning\n",
    "    \n",
    "    :param text: an input text\n",
    "    :return: a cleaned text\n",
    "    \"\"\"\n",
    "    # TODO: your code is here\n",
    "    \n",
    "    \n",
    "def clean_text(text):\n",
    "    \"\"\"\n",
    "    Perfomes a basic text cleaning\n",
    "    \n",
    "    :param text: an input text\n",
    "    :return: a cleaned text\n",
    "    \"\"\"\n",
    "    import re\n",
    "    \n",
    "    text = text.lower()\n",
    "    text = re.sub('[^\\w]', ' ', text)\n",
    "    text = re.sub('\\s+', ' ', text)\n",
    "    text = text.strip()\n",
    "    return text\n",
    "\n",
    "\n",
    "text = \"Lorem Ipsum has been the industry's standard dummy text ever since the 1500s,\"\n",
    "assert clean_text(text) == 'lorem ipsum has been the industry s standard dummy text ever since the 1500s'"
   ]
  },
  {
   "cell_type": "markdown",
   "metadata": {},
   "source": [
    "## Tokenization\n",
    "\n",
    "\n",
    "```python\n",
    "from nltk.tokenize import word_tokenize\n",
    "\n",
    "\n",
    "sent = 'lorem ipsum has been the industry s standard dummy text ever since the 1500s'\n",
    "word_tokenize(sent)\n",
    "['lorem', 'ipsum', 'has', 'been', 'the', 'industry', 's', 'standard', 'dummy', 'text', 'ever', 'since', 'the', '1500s']\n",
    "```"
   ]
  },
  {
   "cell_type": "code",
   "execution_count": 36,
   "metadata": {},
   "outputs": [],
   "source": [
    "def tokenize_text(text):\n",
    "    \"\"\"\n",
    "    Tokenizes text using word_tokenize from NLTK\n",
    "    :param text: an input text\n",
    "    :return: a list of tokens\n",
    "    \"\"\"\n",
    "    # TODO: your code is here\n",
    "\n",
    "\n",
    "def tokenize_text(text):\n",
    "    \"\"\"\n",
    "    Tokenizes text using word_tokenize from NLTK\n",
    "    :param text: an input text\n",
    "    :return: a list of tokens\n",
    "    \"\"\"\n",
    "    from nltk.tokenize import word_tokenize\n",
    "    return word_tokenize(text, language='english')\n",
    "\n",
    "\n",
    "sent = 'lorem ipsum has been the industry s standard dummy text ever since the 1500s'\n",
    "tokens = tokenize_text(sent)\n",
    "assert set(tokens) == {'ipsum', '1500s', 'the', 'since', 'text', 'been', 'ever',\n",
    "                       'has', 'industry', 'lorem', 's', 'standard', 'dummy'}"
   ]
  },
  {
   "cell_type": "markdown",
   "metadata": {},
   "source": [
    "## Stopwords removal\n",
    "\n",
    "\n",
    "```python\n",
    "from nltk.corpus import stopwords\n",
    "\n",
    "en_stopwords = set(stopwords.words('english'))\n",
    "\n",
    "tokens = ['lorem', 'ipsum', 'has', 'been', 'the', 'industry', 's', 'standard',\n",
    "          'dummy', 'text', 'ever', 'since', 'the', '1500s']\n",
    "tokens = [t for t in tokens if t not in en_stopwords]\n",
    "```"
   ]
  },
  {
   "cell_type": "code",
   "execution_count": 41,
   "metadata": {},
   "outputs": [],
   "source": [
    "def remove_stopwords(text_tokens):\n",
    "    \"\"\"\n",
    "    Removes stopwords from a given list of tokens and words shorter than 3 chars\n",
    "    \n",
    "    :param text_tokens: a list of text's tokens\n",
    "    :return: filtered tokens list\n",
    "    \"\"\"\n",
    "    # TODO: your code is here\n",
    "    \n",
    "    \n",
    "def remove_stopwords(text_tokens):\n",
    "    \"\"\"\n",
    "    Removes stopwords from a given list of tokens and words shorter than 3 chars\n",
    "    \n",
    "    :param text_tokens: a list of text's tokens\n",
    "    :return: filtered tokens list\n",
    "    \"\"\"\n",
    "    from nltk.corpus import stopwords\n",
    "\n",
    "    en_stopwords = set(stopwords.words('english'))\n",
    "    return [t for t in text_tokens if t not in en_stopwords and len(t) >= 3]\n",
    "\n",
    "\n",
    "tokens = ['lorem', 'ipsum', 'has', 'been', 'the', 'industry', 's', 'standard',\n",
    "          'dummy', 'text', 'ever', 'since', 'the', '1500s']\n",
    "assert remove_stopwords(tokens) == ['lorem', 'ipsum', 'industry', 'standard',\n",
    "                                    'dummy', 'text', 'ever', 'since', '1500s']"
   ]
  },
  {
   "cell_type": "markdown",
   "metadata": {},
   "source": [
    "## Adding synonyms\n",
    "\n",
    "```python\n",
    "from nltk.corpus import wordnet\n",
    "\n",
    "\n",
    "synset = wordnet.synsets('dummy')[0]\n",
    "synset.lemma_names()\n",
    "['dummy', 'silent_person']\n",
    "```"
   ]
  },
  {
   "cell_type": "code",
   "execution_count": 112,
   "metadata": {},
   "outputs": [],
   "source": [
    "def add_synonyms(text_tokens):\n",
    "    \"\"\"\n",
    "    Adds synonyms to tokens list\n",
    "    \n",
    "    :param text_tokens: an input tokens list\n",
    "    :return: a token list\n",
    "    \"\"\"\n",
    "    # TODO: your code is here\n",
    "    \n",
    "    \n",
    "def add_synonyms(text_tokens):\n",
    "    \"\"\"\n",
    "    Adds synonyms to tokens list\n",
    "    \n",
    "    :param text_tokens: an input tokens list\n",
    "    :return: a token list\n",
    "    \"\"\"\n",
    "    import itertools\n",
    "    from nltk.corpus import wordnet\n",
    "    \n",
    "    extended_tokens = []\n",
    "    \n",
    "    for token in text_tokens:\n",
    "        synsets = wordnet.synsets(token)\n",
    "        \n",
    "        if synsets:\n",
    "            synset = synsets[0]\n",
    "            extended_tokens.extend(synset.lemma_names())\n",
    "        else:\n",
    "            extended_tokens.append(token)\n",
    "            \n",
    "    return extended_tokens\n",
    "\n",
    "\n",
    "tokens = ['lorem', 'ipsum', 'industry', 'standard', 'dummy', 'text', 'ever', 'since', '1500s']\n",
    "assert set(add_synonyms(tokens)) == {'ipsum', '1500s', 'textual_matter', 'touchstone', 'since',\n",
    "                                     'text', 'silent_person', 'ever', 'lorem', 'industry', 'of_all_time',\n",
    "                                     'standard', 'dummy', 'measure', 'criterion'}"
   ]
  },
  {
   "cell_type": "code",
   "execution_count": 48,
   "metadata": {},
   "outputs": [],
   "source": [
    "from sklearn.datasets import fetch_20newsgroups\n",
    "\n",
    "\n",
    "dataset = fetch_20newsgroups()\n",
    "X = dataset['data']\n",
    "y = dataset['target']"
   ]
  },
  {
   "cell_type": "code",
   "execution_count": 44,
   "metadata": {},
   "outputs": [],
   "source": [
    "def text_preprocessing_pipeline(X):\n",
    "    X_processed = []\n",
    "    \n",
    "    for line in X:\n",
    "        cleaned_line = clean_text(line)\n",
    "        tokens = tokenize_text(cleaned_line)\n",
    "        tokens = remove_stopwords(tokens)\n",
    "        X_processed.append(tokens)\n",
    "    \n",
    "    return X_processed"
   ]
  },
  {
   "cell_type": "code",
   "execution_count": 45,
   "metadata": {},
   "outputs": [],
   "source": [
    "X = text_preprocessing_pipeline(X)"
   ]
  },
  {
   "cell_type": "code",
   "execution_count": 46,
   "metadata": {},
   "outputs": [
    {
     "name": "stdout",
     "output_type": "stream",
     "text": [
      "['lerxst', 'wam', 'umd', 'edu', 'thing', 'subject', 'car', 'nntp', 'posting', 'host', 'rac3', 'wam', 'umd', 'edu', 'organization', 'university', 'maryland', 'college', 'park', 'lines', 'wondering', 'anyone', 'could', 'enlighten', 'car', 'saw', 'day', 'door', 'sports', 'car', 'looked', 'late', '60s', 'early', '70s', 'called', 'bricklin', 'doors', 'really', 'small', 'addition', 'front', 'bumper', 'separate', 'rest', 'body', 'know', 'anyone', 'tellme', 'model', 'name', 'engine', 'specs', 'years', 'production', 'car', 'made', 'history', 'whatever', 'info', 'funky', 'looking', 'car', 'please', 'mail', 'thanks', 'brought', 'neighborhood', 'lerxst']\n"
     ]
    }
   ],
   "source": [
    "print(X[0])"
   ]
  },
  {
   "cell_type": "code",
   "execution_count": null,
   "metadata": {},
   "outputs": [],
   "source": []
  }
 ],
 "metadata": {
  "kernelspec": {
   "display_name": "Python 3",
   "language": "python",
   "name": "python3"
  },
  "language_info": {
   "codemirror_mode": {
    "name": "ipython",
    "version": 3
   },
   "file_extension": ".py",
   "mimetype": "text/x-python",
   "name": "python",
   "nbconvert_exporter": "python",
   "pygments_lexer": "ipython3",
   "version": "3.4.5"
  }
 },
 "nbformat": 4,
 "nbformat_minor": 2
}

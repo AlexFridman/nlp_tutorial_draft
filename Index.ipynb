{
 "cells": [
  {
   "cell_type": "markdown",
   "metadata": {},
   "source": [
    "<small><i>This tutorial was put together by [Alexander Fridman](http://www.rocketscience.ai) and [Volha Hedranovich](http://www.rocketscience.ai) for the Lecture Course. Source and license info is on [GitHub](https://github.com/volhahedranovich/jupyter_lectures).</i></small>"
   ]
  },
  {
   "cell_type": "markdown",
   "metadata": {},
   "source": [
    "# Lecture 5. Natural Language Processing"
   ]
  },
  {
   "cell_type": "markdown",
   "metadata": {},
   "source": [
    "### Lecture outline\n",
    "\n",
    "1. [NLP Tasks](../nlp/NLP_Tasks.ipynb)\n",
    "2. [Key Python packages for NLP](../nlp/Key_NLP_Packages.ipynb)\n",
    "  * Nltk\n",
    "    * All according to text processing\n",
    "  * Spacy\n",
    "    * Pos\n",
    "    * Ner\n",
    "    * Lemmatization\n",
    "3. [Case study. Text classification](../nlp/NLP_Case_Study.ipynb)\n",
    "  * Dataset \n",
    "  * Preprocessing\n",
    "    * 1st level cleaning with regexps\n",
    "    * Spelling correction\n",
    "    * Tokenization\n",
    "    * Stopwords removal\n",
    "    * Stemming, Lemmatization (Porter stemmer, Snowball stemmer, how does it work)\n",
    "    * Synonyms replacement\n",
    "    * Replacing negations with antonyms\n",
    "    * Building of N-gramms, chunking\n",
    "  * Building of corpus vocabulary\n",
    "    * Selection of most meaning words\n",
    "    * Meaning less terms removal\n",
    "  * Vectorization\n",
    "    * Dummy CountVectoriser (BOW)\n",
    "    * TfIdf\n",
    "    * Hashing trick\n",
    "    * Sent2Vec\n",
    "    * Word2Vec\n",
    "    * Doc2Vec\n",
    "  * Classification with any algo\n",
    "4. [Sequence data approach. Using RNNs for text classification](../nlp/NLP_RNN.ipynb)\n",
    "\n",
    "------"
   ]
  },
  {
   "cell_type": "markdown",
   "metadata": {},
   "source": [
    "### Homework\n",
    "\n",
    "Take part in the challenge **Predict the Happiness**.\n",
    "\n",
    "Problem Statement, Data and Submission form see [here](https://www.hackerearth.com/problem/machine-learning/predict-the-happiness/).\n",
    "\n",
    "Share your best scores in the Slack channel <span style=\"color:#33742c\">`#nlp`</span>, in the thread (available on the tag <span style=\"color:#33742c\">*#nlp-homework1*</span>).\n",
    "\n",
    "------"
   ]
  },
  {
   "cell_type": "markdown",
   "metadata": {},
   "source": [
    "# List of abbreviations\n",
    "\n",
    "NLP - Natural Language Processing (NLP)\n",
    "\n",
    "POS\n",
    "\n",
    "NER\n",
    "\n",
    "RegExp\n",
    "\n",
    "BOW\n",
    "\n",
    "------"
   ]
  },
  {
   "cell_type": "markdown",
   "metadata": {},
   "source": [
    "# References\n",
    "\n",
    "1. Jacob Perkins. [Python 3 Text Processing with NLTK 3 Cookbook](https://www.packtpub.com/application-development/python-3-text-processing-nltk-3-cookbook)\n",
    "2. Python library fo NLP [spaCy](https://spacy.io/usage/)"
   ]
  },
  {
   "cell_type": "code",
   "execution_count": null,
   "metadata": {},
   "outputs": [],
   "source": []
  },
  {
   "cell_type": "code",
   "execution_count": null,
   "metadata": {},
   "outputs": [],
   "source": []
  }
 ],
 "metadata": {
  "kernelspec": {
   "display_name": "Python 3",
   "language": "python",
   "name": "python3"
  },
  "language_info": {
   "codemirror_mode": {
    "name": "ipython",
    "version": 3
   },
   "file_extension": ".py",
   "mimetype": "text/x-python",
   "name": "python",
   "nbconvert_exporter": "python",
   "pygments_lexer": "ipython3",
   "version": "3.4.5"
  }
 },
 "nbformat": 4,
 "nbformat_minor": 2
}

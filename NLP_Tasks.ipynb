{
 "cells": [
  {
   "cell_type": "markdown",
   "metadata": {},
   "source": [
    "<small><i>This notebook was put together by [Alexander Fridman](http://www.rocketscience.ai) and [Volha Hedranovich](http://www.rocketscience.ai) for the Lecture Course. Source and license info is on [GitHub](https://github.com/volhahedranovich/jupyter_lectures).</i></small>"
   ]
  },
  {
   "cell_type": "markdown",
   "metadata": {},
   "source": [
    "# NLP Tasks"
   ]
  },
  {
   "cell_type": "markdown",
   "metadata": {},
   "source": [
    "Part-of-Speech Tagging\n",
    "\n",
    "Word-Sense Disambiguation\n",
    "\n",
    "Named Entity Recognition\n",
    "\n",
    "Language Identification\n",
    "\n",
    "Text Summarisation\n",
    "\n",
    "Sentiment Analysis\n",
    "\n",
    "Semantic Text Similarity\n",
    "\n",
    "Topic Modeling\n",
    "\n",
    "Authorship Identification"
   ]
  },
  {
   "cell_type": "markdown",
   "metadata": {},
   "source": [
    "#### Word-Sense Disambiguation\n",
    "\n",
    "To give a hint how all this works, consider three examples of the distinct senses that exist for the (written) word \"bass\":\n",
    "\n",
    "    a type of fish\n",
    "    tones of low frequency\n",
    "    a type of instrument\n",
    "\n",
    "and the sentences:\n",
    "\n",
    "    I went fishing for some sea bass.\n",
    "    The bass line of the song is too weak.\n"
   ]
  },
  {
   "cell_type": "code",
   "execution_count": null,
   "metadata": {},
   "outputs": [],
   "source": []
  }
 ],
 "metadata": {
  "kernelspec": {
   "display_name": "Python 3",
   "language": "python",
   "name": "python3"
  },
  "language_info": {
   "codemirror_mode": {
    "name": "ipython",
    "version": 3
   },
   "file_extension": ".py",
   "mimetype": "text/x-python",
   "name": "python",
   "nbconvert_exporter": "python",
   "pygments_lexer": "ipython3",
   "version": "3.4.5"
  }
 },
 "nbformat": 4,
 "nbformat_minor": 2
}
